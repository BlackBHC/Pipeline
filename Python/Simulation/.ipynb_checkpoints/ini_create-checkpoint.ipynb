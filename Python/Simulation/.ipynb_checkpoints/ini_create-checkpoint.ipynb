{
 "cells": [
  {
   "cell_type": "code",
   "execution_count": 1,
   "id": "d6775f7e",
   "metadata": {},
   "outputs": [],
   "source": [
    "%run ~/Codes/module_import.py"
   ]
  },
  {
   "cell_type": "code",
   "execution_count": 42,
   "id": "64126195",
   "metadata": {},
   "outputs": [],
   "source": [
    "config = cp.ConfigParser(allow_no_value=True)"
   ]
  },
  {
   "cell_type": "code",
   "execution_count": 43,
   "id": "4bf5c57e",
   "metadata": {},
   "outputs": [],
   "source": [
    "sections = ('Model', 'Figure', 'Statistic')"
   ]
  },
  {
   "cell_type": "code",
   "execution_count": 79,
   "id": "9669b2b6",
   "metadata": {},
   "outputs": [],
   "source": [
    "# Model Types Part\n",
    "# Need to add in one more key-value pair in this section, if there is a new model type needs to add in, otherwise the program will\n",
    "#    raise an error\n",
    "config[sections[0]] = {\n",
    "    '# Every type contains a string with different components split by a space character': None,\n",
    "    'Nbody Two Component   ': 'Disk Halo',\n",
    "    'Nbody Three Component ': 'Disk Halo Bulge',\n",
    "    '# Recommended sequence for isolate single galaxy: ': None,\n",
    "    '#     Gas component first (if exist)': None,\n",
    "    '#     Different disk components': None,\n",
    "    '#     DM halo': None,\n",
    "    '#     Possible bulge or stellar halo components for isolated galaxy model': None,\n",
    "    '': None,\n",
    "}"
   ]
  },
  {
   "cell_type": "code",
   "execution_count": 80,
   "id": "394978c9",
   "metadata": {},
   "outputs": [],
   "source": [
    "# Figure framework part\n",
    "config[sections[1]] = {\n",
    "    '# Figure size part': None,\n",
    "    'basic length ': 10,\n",
    "    '# The basic scale length for width of subfigures, all other values for width, height are ratio w.r.t. this one.': None,\n",
    "    'edge on y    ': .4,\n",
    "    'plot y       ': .6,\n",
    "    'color bar    ': .05,\n",
    "    '# The margin of figure and space distance between different figures in x and y direction': None,\n",
    "    'margin       ': .35,\n",
    "    'x space      ': .2,\n",
    "    'y space      ': .2,\n",
    "    '#': None,\n",
    "    '# Axis part': None,\n",
    "    '#': None,\n",
    "    '# Curves part': None,\n",
    "    '#': None,\n",
    "    '# Text  part': None,\n",
    "    '': None,\n",
    "}\n",
    "\n",
    "with open('test.ini', 'w') as file:\n",
    "    config.write(file)\n",
    "    "
   ]
  }
 ],
 "metadata": {
  "kernelspec": {
   "display_name": "Python3.7 (sys)",
   "language": "python",
   "name": "python3.7"
  },
  "language_info": {
   "codemirror_mode": {
    "name": "ipython",
    "version": 3
   },
   "file_extension": ".py",
   "mimetype": "text/x-python",
   "name": "python",
   "nbconvert_exporter": "python",
   "pygments_lexer": "ipython3",
   "version": "3.7.10"
  },
  "vp": {
   "vp_config_version": "1.0.0",
   "vp_menu_width": 273,
   "vp_note_display": false,
   "vp_note_width": 0,
   "vp_position": {
    "width": 278
   },
   "vp_section_display": false,
   "vp_signature": "VisualPython"
  }
 },
 "nbformat": 4,
 "nbformat_minor": 5
}
