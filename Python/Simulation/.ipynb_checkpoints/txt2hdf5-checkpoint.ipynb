{
 "cells": [
  {
   "cell_type": "code",
   "execution_count": 3,
   "id": "36ff9282",
   "metadata": {},
   "outputs": [],
   "source": [
    "%run ~/Codes/module_import"
   ]
  },
  {
   "cell_type": "code",
   "execution_count": 2,
   "id": "e2b08cf2",
   "metadata": {},
   "outputs": [],
   "source": [
    "components = ('halo', 'bulge', 'disk')"
   ]
  },
  {
   "cell_type": "code",
   "execution_count": 3,
   "id": "55cb1aa0",
   "metadata": {},
   "outputs": [],
   "source": [
    "raw = []\n",
    "for comp in components:\n",
    "    raw += [np.loadtxt(\"model_\"+comp+\"_final\")]"
   ]
  },
  {
   "cell_type": "code",
   "execution_count": 5,
   "id": "030bb994",
   "metadata": {},
   "outputs": [],
   "source": [
    "directory = '/home/bhchen/BPX_Populations/IC/'"
   ]
  },
  {
   "cell_type": "code",
   "execution_count": 4,
   "id": "4f11ba3c",
   "metadata": {},
   "outputs": [],
   "source": [
    "f = h5py.File(\"demo_txt2hdf5.hdf5\", 'w')\n",
    "f.create_group(\"Header\")\n",
    "\n",
    "f[\"Header\"].attrs['NumPart_ThisFile'] = np.array([0, len(raw[0]), len(raw[1]), len(raw[2])], dtype=np.uint32)\n",
    "f[\"Header\"].attrs['NumPart_Total'] = np.array([0, len(raw[0]), len(raw[1]), len(raw[2])], dtype=np.uint64)\n",
    "f[\"Header\"].attrs['MassTable'] = np.array([0, 0, 0, 0])\n",
    "f[\"Header\"].attrs['Time'] = 0.0\n",
    "f[\"Header\"].attrs['Redshift'] = 0.0\n",
    "f[\"Header\"].attrs['BoxSize'] = 0.0\n",
    "f[\"Header\"].attrs[\"NumFilesPerSnapshot\"] = 0\n",
    "\n",
    "cmps = []\n",
    "cmps += [f.create_group(\"PartType1\")]\n",
    "cmps += [f.create_group(\"PartType2\")]\n",
    "cmps += [f.create_group(\"PartType3\")]\n",
    "cmps += [f.create_group(\"PartType0\")]\n",
    "\n",
    "i = 0 \n",
    "count = 0\n",
    "while(i < 3):\n",
    "    cmps[i].create_dataset(name=\"Coordinates\", data = raw[i][:,:3])\n",
    "    cmps[i].create_dataset(name=\"Velocities\", data = raw[i][:,3:6])\n",
    "    cmps[i].create_dataset(name=\"Masses\", data = raw[i][:,6])\n",
    "    cmps[i].create_dataset(name=\"ParticleIDs\", dtype=np.uint32, data = np.arange(count, count + len(raw[i])))\n",
    "    count += len(raw[i])\n",
    "    i += 1\n",
    "    \n",
    "f.close()"
   ]
  },
  {
   "cell_type": "code",
   "execution_count": 5,
   "id": "c9ba8374",
   "metadata": {},
   "outputs": [],
   "source": [
    "f = h5py.File(\"demo_txt2hdf5.hdf5\", 'r')"
   ]
  },
  {
   "cell_type": "code",
   "execution_count": 6,
   "id": "5bcc1044",
   "metadata": {},
   "outputs": [
    {
     "data": {
      "text/plain": [
       "<KeysViewHDF5 ['Coordinates', 'Masses', 'ParticleIDs', 'Velocities']>"
      ]
     },
     "execution_count": 6,
     "metadata": {},
     "output_type": "execute_result"
    }
   ],
   "source": [
    "f['PartType1'].keys()"
   ]
  }
 ],
 "metadata": {
  "kernelspec": {
   "display_name": "Python3.7 (sys)",
   "language": "python",
   "name": "python3.7"
  },
  "language_info": {
   "codemirror_mode": {
    "name": "ipython",
    "version": 3
   },
   "file_extension": ".py",
   "mimetype": "text/x-python",
   "name": "python",
   "nbconvert_exporter": "python",
   "pygments_lexer": "ipython3",
   "version": "3.7.10"
  }
 },
 "nbformat": 4,
 "nbformat_minor": 5
}
