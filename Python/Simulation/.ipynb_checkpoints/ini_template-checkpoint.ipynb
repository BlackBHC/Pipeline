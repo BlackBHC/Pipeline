{
 "cells": [
  {
   "cell_type": "code",
   "execution_count": 7,
   "id": "d6775f7e",
   "metadata": {},
   "outputs": [],
   "source": [
    "%run ~/Codes/module_import.py"
   ]
  },
  {
   "cell_type": "code",
   "execution_count": 2,
   "id": "64126195",
   "metadata": {},
   "outputs": [],
   "source": [
    "config = cp.ConfigParser(allow_no_value=True)"
   ]
  },
  {
   "cell_type": "code",
   "execution_count": 76,
   "id": "9669b2b6",
   "metadata": {},
   "outputs": [],
   "source": [
    "# Model Types\n",
    "# Need to add in one more key-value pair in this parameter file, if there is a new model type needs to add in, otherwise the program will\n",
    "#    raise an error!!!\n",
    "\n",
    "cf_model = cp.ConfigParser(allow_no_value=True)\n",
    "cf_model['Nbody'] = {\n",
    "    '# Every type contains a string with different components split by a space character': None,\n",
    "    'Two Component   ': 'Disk Halo',\n",
    "    'Three Component ': 'Disk Halo Bulge',\n",
    "    '# Recommended sequence for isolate single galaxy: ': None,\n",
    "    '#     Gas component first (if exist)': None,\n",
    "    '#     Different disk components': None,\n",
    "    '#     DM halo': None,\n",
    "    '#     Possible bulge or stellar halo components for isolated galaxy model': None,\n",
    "    '': None,\n",
    "}\n",
    "with open(\"Model.ini\", \"w\") as model:\n",
    "    cf_model.write(model)"
   ]
  },
  {
   "cell_type": "code",
   "execution_count": 75,
   "id": "394978c9",
   "metadata": {},
   "outputs": [],
   "source": [
    "# Figure framework part\n",
    "\n",
    "cf_fig = cp.ConfigParser(allow_no_value=Trues)\n",
    "cf_fig['Figure size'] = {\n",
    "    'basic length ': 10,\n",
    "    '# The basic scale length for width of subfigures, all other values for width, height are ratio w.r.t. this one.': None,\n",
    "    'edge on y    ': .4,\n",
    "    'plot y       ': .6,\n",
    "    'color bar    ': .05,\n",
    "    '# The margin of figure and space distance between different figures in x and y direction': None,\n",
    "    'margin       ': .35,\n",
    "    'x space      ': .2,\n",
    "    'y space      ': .2,\n",
    "    '': None,\n",
    "}\n",
    "\n",
    "cf_fig['Axis'] = {\n",
    "    'basic ticknums     ': 9,\n",
    "    '# number of ticks in inshow image, plot et al.': None,\n",
    "    'edge on y ticknums ': 5,\n",
    "    '# number of ticks in edge on image': None,\n",
    "    'minor ticks        ': 'on',\n",
    "    '': None,\n",
    "}\n",
    "\n",
    "cf_fig['Curve'] = {\n",
    "    'Curve type sequence': '- -- -. :',\n",
    "    '# They are: solid, dashed, dot-dashed and dot': None,\n",
    "    'Curve color sequence': 'red orange yellow green cyan blue purple magenta pink white grey brown black',\n",
    "    '# They are colors in rainbow, then gradually fading to white and finally gradually darken to black': None,\n",
    "    '': None,\n",
    "}\n",
    "\n",
    "cf_fig['Text'] = {\n",
    "    'fontsize': 'small',\n",
    "    \"# Availabel automatic values: 'xx-small', 'x-small', 'small', 'medium', 'large', 'x-large', 'xx-large'\": None,\n",
    "    '# ': None,\n",
    "    '# Colorbar part': None,\n",
    "    '# Not finished yet.': None,\n",
    "}\n",
    "\n",
    "with open('Figure.ini', 'w') as fig:\n",
    "    cf_fig.write(fig)\n",
    "    "
   ]
  },
  {
   "cell_type": "code",
   "execution_count": 60,
   "id": "7eaaf6f3",
   "metadata": {},
   "outputs": [
    {
     "name": "stdout",
     "output_type": "stream",
     "text": [
      "Help on function text in module matplotlib.pyplot:\n",
      "\n",
      "text(x, y, s, fontdict=None, **kwargs)\n",
      "    Add text to the Axes.\n",
      "    \n",
      "    Add the text *s* to the Axes at location *x*, *y* in data coordinates.\n",
      "    \n",
      "    Parameters\n",
      "    ----------\n",
      "    x, y : float\n",
      "        The position to place the text. By default, this is in data\n",
      "        coordinates. The coordinate system can be changed using the\n",
      "        *transform* parameter.\n",
      "    \n",
      "    s : str\n",
      "        The text.\n",
      "    \n",
      "    fontdict : dict, default: None\n",
      "        A dictionary to override the default text properties. If fontdict\n",
      "        is None, the defaults are determined by `.rcParams`.\n",
      "    \n",
      "    Returns\n",
      "    -------\n",
      "    `.Text`\n",
      "        The created `.Text` instance.\n",
      "    \n",
      "    Other Parameters\n",
      "    ----------------\n",
      "    **kwargs : `~matplotlib.text.Text` properties.\n",
      "        Other miscellaneous text parameters.\n",
      "    \n",
      "        Properties:\n",
      "        agg_filter: a filter function, which takes a (m, n, 3) float array and a dpi value, and returns a (m, n, 3) array\n",
      "        alpha: scalar or None\n",
      "        animated: bool\n",
      "        backgroundcolor: color\n",
      "        bbox: dict with properties for `.patches.FancyBboxPatch`\n",
      "        clip_box: unknown\n",
      "        clip_on: unknown\n",
      "        clip_path: unknown\n",
      "        color or c: color\n",
      "        figure: `.Figure`\n",
      "        fontfamily or family: {FONTNAME, 'serif', 'sans-serif', 'cursive', 'fantasy', 'monospace'}\n",
      "        fontproperties or font or font_properties: `.font_manager.FontProperties` or `str` or `pathlib.Path`\n",
      "        fontsize or size: float or {'xx-small', 'x-small', 'small', 'medium', 'large', 'x-large', 'xx-large'}\n",
      "        fontstretch or stretch: {a numeric value in range 0-1000, 'ultra-condensed', 'extra-condensed', 'condensed', 'semi-condensed', 'normal', 'semi-expanded', 'expanded', 'extra-expanded', 'ultra-expanded'}\n",
      "        fontstyle or style: {'normal', 'italic', 'oblique'}\n",
      "        fontvariant or variant: {'normal', 'small-caps'}\n",
      "        fontweight or weight: {a numeric value in range 0-1000, 'ultralight', 'light', 'normal', 'regular', 'book', 'medium', 'roman', 'semibold', 'demibold', 'demi', 'bold', 'heavy', 'extra bold', 'black'}\n",
      "        gid: str\n",
      "        horizontalalignment or ha: {'center', 'right', 'left'}\n",
      "        in_layout: bool\n",
      "        label: object\n",
      "        linespacing: float (multiple of font size)\n",
      "        math_fontfamily: str\n",
      "        multialignment or ma: {'left', 'right', 'center'}\n",
      "        parse_math: bool\n",
      "        path_effects: `.AbstractPathEffect`\n",
      "        picker: None or bool or float or callable\n",
      "        position: (float, float)\n",
      "        rasterized: bool\n",
      "        rotation: float or {'vertical', 'horizontal'}\n",
      "        rotation_mode: {None, 'default', 'anchor'}\n",
      "        sketch_params: (scale: float, length: float, randomness: float)\n",
      "        snap: bool or None\n",
      "        text: object\n",
      "        transform: `.Transform`\n",
      "        transform_rotates_text: bool\n",
      "        url: str\n",
      "        usetex: bool or None\n",
      "        verticalalignment or va: {'center', 'top', 'bottom', 'baseline', 'center_baseline'}\n",
      "        visible: bool\n",
      "        wrap: bool\n",
      "        x: float\n",
      "        y: float\n",
      "        zorder: float\n",
      "    \n",
      "    Examples\n",
      "    --------\n",
      "    Individual keyword arguments can be used to override any given\n",
      "    parameter::\n",
      "    \n",
      "        >>> text(x, y, s, fontsize=12)\n",
      "    \n",
      "    The default transform specifies that text is in data coords,\n",
      "    alternatively, you can specify text in axis coords ((0, 0) is\n",
      "    lower-left and (1, 1) is upper-right).  The example below places\n",
      "    text in the center of the Axes::\n",
      "    \n",
      "        >>> text(0.5, 0.5, 'matplotlib', horizontalalignment='center',\n",
      "        ...      verticalalignment='center', transform=ax.transAxes)\n",
      "    \n",
      "    You can put a rectangular box around the text instance (e.g., to\n",
      "    set a background color) by using the keyword *bbox*.  *bbox* is\n",
      "    a dictionary of `~matplotlib.patches.Rectangle`\n",
      "    properties.  For example::\n",
      "    \n",
      "        >>> text(x, y, s, bbox=dict(facecolor='red', alpha=0.5))\n",
      "\n"
     ]
    }
   ],
   "source": [
    "help(plt.text)"
   ]
  },
  {
   "cell_type": "code",
   "execution_count": 74,
   "id": "9dc664d5",
   "metadata": {},
   "outputs": [
    {
     "data": {
      "image/png": "[encoded data removed]",
      "text/plain": [
       "<Figure size 864x864 with 4 Axes>"
      ]
     },
     "metadata": {
      "needs_background": "light"
     },
     "output_type": "display_data"
    }
   ],
   "source": [
    "fig, axes = plt.subplots(nrows=2, ncols=2, figsize=(12, 12))\n",
    "axes[0, 0].plot(np.arange(100), c='pink')\n",
    "axes[0, 1].plot(np.arange(100), c='purple')\n",
    "axes[1, 0].plot(np.arange(100), c='magenta')\n",
    "axes[1, 0].text(10, 80, 'Oasd asd = asd \\nasdw', c='magenta', fontsize='x-small', fontstyle='normal')\n",
    "axes[0, 0].minorticks_on()\n",
    "axes[0, 0].tick_params(axis='x', which='both', direction='in', length=10)"
   ]
  },
  {
   "cell_type": "code",
   "execution_count": 14,
   "id": "e11f1e6d",
   "metadata": {},
   "outputs": [
    {
     "data": {
      "text/plain": [
       "<module 'matplotlib.pyplot' from '/opt/conda/conda-4.12.0/envs/python3/lib/python3.7/site-packages/matplotlib/pyplot.py'>"
      ]
     },
     "execution_count": 14,
     "metadata": {},
     "output_type": "execute_result"
    }
   ],
   "source": [
    "ls = '-', '--', '-.', ':', ''"
   ]
  },
  {
   "cell_type": "code",
   "execution_count": 37,
   "id": "338b2c90",
   "metadata": {},
   "outputs": [
    {
     "name": "stdout",
     "output_type": "stream",
     "text": [
      "Help on function tick_params in module matplotlib.pyplot:\n",
      "\n",
      "tick_params(axis='both', **kwargs)\n",
      "    Change the appearance of ticks, tick labels, and gridlines.\n",
      "    \n",
      "    Tick properties that are not explicitly set using the keyword\n",
      "    arguments remain unchanged unless *reset* is True.\n",
      "    \n",
      "    Parameters\n",
      "    ----------\n",
      "    axis : {'x', 'y', 'both'}, default: 'both'\n",
      "        The axis to which the parameters are applied.\n",
      "    which : {'major', 'minor', 'both'}, default: 'major'\n",
      "        The group of ticks to which the parameters are applied.\n",
      "    reset : bool, default: False\n",
      "        Whether to reset the ticks to defaults before updating them.\n",
      "    \n",
      "    Other Parameters\n",
      "    ----------------\n",
      "    direction : {'in', 'out', 'inout'}\n",
      "        Puts ticks inside the axes, outside the axes, or both.\n",
      "    length : float\n",
      "        Tick length in points.\n",
      "    width : float\n",
      "        Tick width in points.\n",
      "    color : color\n",
      "        Tick color.\n",
      "    pad : float\n",
      "        Distance in points between tick and label.\n",
      "    labelsize : float or str\n",
      "        Tick label font size in points or as a string (e.g., 'large').\n",
      "    labelcolor : color\n",
      "        Tick label color.\n",
      "    colors : color\n",
      "        Tick color and label color.\n",
      "    zorder : float\n",
      "        Tick and label zorder.\n",
      "    bottom, top, left, right : bool\n",
      "        Whether to draw the respective ticks.\n",
      "    labelbottom, labeltop, labelleft, labelright : bool\n",
      "        Whether to draw the respective tick labels.\n",
      "    labelrotation : float\n",
      "        Tick label rotation\n",
      "    grid_color : color\n",
      "        Gridline color.\n",
      "    grid_alpha : float\n",
      "        Transparency of gridlines: 0 (transparent) to 1 (opaque).\n",
      "    grid_linewidth : float\n",
      "        Width of gridlines in points.\n",
      "    grid_linestyle : str\n",
      "        Any valid `.Line2D` line style spec.\n",
      "    \n",
      "    Examples\n",
      "    --------\n",
      "    ::\n",
      "    \n",
      "        ax.tick_params(direction='out', length=6, width=2, colors='r',\n",
      "                       grid_color='r', grid_alpha=0.5)\n",
      "    \n",
      "    This will make all major ticks be red, pointing out of the box,\n",
      "    and with dimensions 6 points by 2 points.  Tick labels will\n",
      "    also be red.  Gridlines will be red and translucent.\n",
      "\n"
     ]
    }
   ],
   "source": [
    "help(plt.tick_params)"
   ]
  },
  {
   "cell_type": "code",
   "execution_count": null,
   "id": "bdf8b82b",
   "metadata": {},
   "outputs": [],
   "source": []
  }
 ],
 "metadata": {
  "kernelspec": {
   "display_name": "Python3.7 (sys)",
   "language": "python",
   "name": "python3.7"
  },
  "language_info": {
   "codemirror_mode": {
    "name": "ipython",
    "version": 3
   },
   "file_extension": ".py",
   "mimetype": "text/x-python",
   "name": "python",
   "nbconvert_exporter": "python",
   "pygments_lexer": "ipython3",
   "version": "3.7.10"
  },
  "vp": {
   "vp_config_version": "1.0.0",
   "vp_menu_width": 273,
   "vp_note_display": false,
   "vp_note_width": 0,
   "vp_position": {
    "width": 278
   },
   "vp_section_display": false,
   "vp_signature": "VisualPython"
  }
 },
 "nbformat": 4,
 "nbformat_minor": 5
}
